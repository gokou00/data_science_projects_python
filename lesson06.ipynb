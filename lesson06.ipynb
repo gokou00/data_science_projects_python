{
 "cells": [
  {
   "cell_type": "markdown",
   "metadata": {},
   "source": [
    "# Imputation of Missing Data, Financial Analysis, and Delivery to Client"
   ]
  },
  {
   "cell_type": "markdown",
   "metadata": {},
   "source": [
    "## Cleaning the Dataset"
   ]
  },
  {
   "cell_type": "code",
   "execution_count": 3,
   "metadata": {},
   "outputs": [],
   "source": [
    "import pandas as pd\n",
    "import numpy as np\n",
    "import matplotlib.pyplot as plt\n",
    "%matplotlib inline"
   ]
  },
  {
   "cell_type": "code",
   "execution_count": 4,
   "metadata": {},
   "outputs": [],
   "source": [
    "# Load the originial dataset from the beginning of our exploration\n",
    "\n",
    "df_orig = pd.read_excel(\"default_of_credit_card_clients__courseware_version_1_21_19.xls\")\n"
   ]
  },
  {
   "cell_type": "code",
   "execution_count": 5,
   "metadata": {},
   "outputs": [],
   "source": [
    "# Make a Boolean array indicating where entries of the DataFrame are equal to 0\n",
    "\n",
    "df_zero_mask = df_orig == 0"
   ]
  },
  {
   "cell_type": "code",
   "execution_count": 6,
   "metadata": {},
   "outputs": [],
   "source": [
    "#Collaspe this 2-d boolean array to 1-d by indicating which rows have 0s in all columns, starting with the second column.\n",
    "\n",
    "feature_zero_mask = df_zero_mask.iloc[:,1:].all(axis=1)"
   ]
  },
  {
   "cell_type": "code",
   "execution_count": 7,
   "metadata": {},
   "outputs": [
    {
     "data": {
      "text/plain": [
       "315"
      ]
     },
     "execution_count": 7,
     "metadata": {},
     "output_type": "execute_result"
    }
   ],
   "source": [
    "# check the number of rows with all 0 values for the features in the same as what we found in ch. 1\n",
    "\n",
    "sum(feature_zero_mask)"
   ]
  },
  {
   "cell_type": "code",
   "execution_count": 8,
   "metadata": {},
   "outputs": [
    {
     "data": {
      "text/plain": [
       "(29685, 25)"
      ]
     },
     "execution_count": 8,
     "metadata": {},
     "output_type": "execute_result"
    }
   ],
   "source": [
    "# Use this mask to select all the other rows, that is those that don't have values of zero for all features and check the resulting \n",
    "# dataframe\n",
    "\n",
    "df_clean = df_orig.loc[~feature_zero_mask,:].copy()\n",
    "df_clean.shape"
   ]
  },
  {
   "cell_type": "code",
   "execution_count": 9,
   "metadata": {},
   "outputs": [
    {
     "data": {
      "text/plain": [
       "29685"
      ]
     },
     "execution_count": 9,
     "metadata": {},
     "output_type": "execute_result"
    }
   ],
   "source": [
    "# Check that the number of unique account IDs is equal to the number of rows of the cleaned dataframe\n",
    "df_clean[\"ID\"].nunique()"
   ]
  },
  {
   "cell_type": "code",
   "execution_count": 10,
   "metadata": {},
   "outputs": [],
   "source": [
    "# Replace the undocumented values of EDUCATION and MARRIAGE features with the documented value for \"unknown\"\n",
    "\n",
    "df_clean[\"EDUCATION\"].replace(to_replace=[0,5,6],value=4,inplace=True)\n",
    "df_clean[\"MARRIAGE\"].replace(to_replace=0,value=3,inplace=True)"
   ]
  },
  {
   "cell_type": "code",
   "execution_count": 11,
   "metadata": {},
   "outputs": [
    {
     "data": {
      "text/plain": [
       "0                13087\n",
       "-1                5047\n",
       "1                 3261\n",
       "Not available     3021\n",
       "-2                2476\n",
       "2                 2378\n",
       "3                  292\n",
       "4                   63\n",
       "5                   23\n",
       "8                   17\n",
       "6                   11\n",
       "7                    9\n",
       "Name: PAY_1, dtype: int64"
      ]
     },
     "execution_count": 11,
     "metadata": {},
     "output_type": "execute_result"
    }
   ],
   "source": [
    "# Examining the values of PAY_1\n",
    "\n",
    "df_clean[\"PAY_1\"].value_counts()"
   ]
  },
  {
   "cell_type": "code",
   "execution_count": 12,
   "metadata": {},
   "outputs": [],
   "source": [
    "# Create a Boolean mask to id the rows with this value\n",
    "missing_pay_1_mask = df_clean[\"PAY_1\"] == \"Not available\""
   ]
  },
  {
   "cell_type": "code",
   "execution_count": 13,
   "metadata": {},
   "outputs": [
    {
     "data": {
      "text/plain": [
       "3021"
      ]
     },
     "execution_count": 13,
     "metadata": {},
     "output_type": "execute_result"
    }
   ],
   "source": [
    "# Confirming that the number of samples with missing data is 3021\n",
    "\n",
    "sum(missing_pay_1_mask)"
   ]
  },
  {
   "cell_type": "code",
   "execution_count": 14,
   "metadata": {},
   "outputs": [],
   "source": [
    "# Making a copy of these rows in a new dataframe which we can add to the data we've been using for modeling\n",
    "\n",
    "df_missing_pay_1 = df_clean.loc[missing_pay_1_mask,:].copy()"
   ]
  },
  {
   "cell_type": "code",
   "execution_count": 15,
   "metadata": {},
   "outputs": [],
   "source": [
    "# Load the cleaned data\n",
    "\n",
    "df = pd.read_csv(\"chapter_1_cleaned_data.csv\")"
   ]
  },
  {
   "cell_type": "code",
   "execution_count": 16,
   "metadata": {},
   "outputs": [],
   "source": [
    "# Make a list of columns names of this Dataframe and then remove the strings that are not part of the set of features and the \n",
    "# response variable\n",
    "\n",
    "features_response = df.columns.tolist()"
   ]
  },
  {
   "cell_type": "code",
   "execution_count": 17,
   "metadata": {},
   "outputs": [],
   "source": [
    "#make a list of column names that are not the features or the response \n",
    "\n",
    "items_to_remove = [\"ID\",\"SEX\",\"PAY_2\",\"PAY_3\",\"PAY_4\",\"PAY_5\",\"PAY_6\",\"EDUCATION_CAT\",\"graduate school\",\"high school\",\"none\",\"others\",\"university\"]"
   ]
  },
  {
   "cell_type": "code",
   "execution_count": 18,
   "metadata": {},
   "outputs": [
    {
     "data": {
      "text/plain": [
       "['LIMIT_BAL',\n",
       " 'EDUCATION',\n",
       " 'MARRIAGE',\n",
       " 'AGE',\n",
       " 'PAY_1',\n",
       " 'BILL_AMT1',\n",
       " 'BILL_AMT2',\n",
       " 'BILL_AMT3',\n",
       " 'BILL_AMT4',\n",
       " 'BILL_AMT5',\n",
       " 'BILL_AMT6',\n",
       " 'PAY_AMT1',\n",
       " 'PAY_AMT2',\n",
       " 'PAY_AMT3',\n",
       " 'PAY_AMT4',\n",
       " 'PAY_AMT5',\n",
       " 'PAY_AMT6',\n",
       " 'default payment next month']"
      ]
     },
     "execution_count": 18,
     "metadata": {},
     "output_type": "execute_result"
    }
   ],
   "source": [
    "#Use a list comprehension to remove the unwanted columns names\n",
    "\n",
    "features_response = [item for item in features_response if item not in items_to_remove]\n",
    "features_response"
   ]
  },
  {
   "cell_type": "markdown",
   "metadata": {},
   "source": [
    "## Mode and Random Imputation of PAY_1"
   ]
  },
  {
   "cell_type": "code",
   "execution_count": 19,
   "metadata": {},
   "outputs": [],
   "source": [
    "# Import module\n",
    "\n",
    "from sklearn.model_selection import train_test_split"
   ]
  },
  {
   "cell_type": "code",
   "execution_count": 20,
   "metadata": {},
   "outputs": [],
   "source": [
    "# Create a 80/20 training/testing split using the same random seed \n",
    "\n",
    "X_train,X_test,y_train,y_test = train_test_split(df[features_response[:-1]].values, df[\"default payment next month\"].values, test_size=0.2,random_state=24)"
   ]
  },
  {
   "cell_type": "code",
   "execution_count": 21,
   "metadata": {},
   "outputs": [
    {
     "name": "stdout",
     "output_type": "stream",
     "text": [
      "(21331, 17)\n",
      "(5333, 17)\n",
      "(21331,)\n",
      "(5333,)\n"
     ]
    }
   ],
   "source": [
    "# Examining the shapes of the training and testing sets\n",
    "\n",
    "print(X_train.shape)\n",
    "print(X_test.shape)\n",
    "print(y_train.shape)\n",
    "print(y_test.shape)"
   ]
  },
  {
   "cell_type": "code",
   "execution_count": 22,
   "metadata": {},
   "outputs": [
    {
     "name": "stdout",
     "output_type": "stream",
     "text": [
      "PAY_1\n"
     ]
    }
   ],
   "source": [
    "# Creating the imputation values for PAY_1\n",
    "\n",
    "print(features_response[4])"
   ]
  },
  {
   "cell_type": "code",
   "execution_count": 23,
   "metadata": {},
   "outputs": [
    {
     "data": {
      "text/plain": [
       "0.0"
      ]
     },
     "execution_count": 23,
     "metadata": {},
     "output_type": "execute_result"
    }
   ],
   "source": [
    "# Checking what the median of PAY_1 is \n",
    "np.median(X_train[:,4])"
   ]
  },
  {
   "cell_type": "code",
   "execution_count": 24,
   "metadata": {},
   "outputs": [],
   "source": [
    "# Create a list of values to test for imputation \n",
    "np.random.seed(seed=1)\n",
    "fill_values = [0,np.random.choice(X_train[:,4],size=(3021,),replace=True)]"
   ]
  },
  {
   "cell_type": "code",
   "execution_count": 25,
   "metadata": {},
   "outputs": [],
   "source": [
    "#Create a list of names for the imputation strategies \n",
    "\n",
    "fill_strategy = [\"mode\",\"random\"]"
   ]
  },
  {
   "cell_type": "code",
   "execution_count": 26,
   "metadata": {},
   "outputs": [
    {
     "data": {
      "text/plain": [
       "array([ 0,  0,  0, ...,  2,  0, -2], dtype=int64)"
      ]
     },
     "execution_count": 26,
     "metadata": {},
     "output_type": "execute_result"
    }
   ],
   "source": [
    "#Examine the second element of the fill_values list\n",
    "\n",
    "fill_values[-1]"
   ]
  },
  {
   "cell_type": "code",
   "execution_count": 27,
   "metadata": {},
   "outputs": [
    {
     "data": {
      "image/png": "[encoded data removed]",
      "text/plain": [
       "<Figure size 576x216 with 2 Axes>"
      ]
     },
     "metadata": {
      "needs_background": "light"
     },
     "output_type": "display_data"
    }
   ],
   "source": [
    "# Use histograms to examine the distrbutions of the original non-missing PAY_1 feature in the training set and the randomly selected \n",
    "# imputed values\n",
    "\n",
    "fig,axs = plt.subplots(1,2,figsize=(8,3))\n",
    "bin_edges = np.arange(-2,9)\n",
    "axs[0].hist(X_train[:,4],bins=bin_edges,align=\"left\")\n",
    "axs[0].set_xticks(bin_edges)\n",
    "axs[0].set_title(\"Non-missing values of PAY_1\")\n",
    "axs[1].hist(fill_values[-1],bins=bin_edges,align=\"left\")\n",
    "axs[1].set_xticks(bin_edges)\n",
    "axs[1].set_title(\"Random selection for imputation\")\n",
    "plt.tight_layout()"
   ]
  },
  {
   "cell_type": "code",
   "execution_count": 28,
   "metadata": {},
   "outputs": [],
   "source": [
    "# Importing the Kfold class\n",
    "\n",
    "from sklearn.model_selection import KFold"
   ]
  },
  {
   "cell_type": "code",
   "execution_count": 30,
   "metadata": {},
   "outputs": [],
   "source": [
    "# Instantiate the KFold class\n",
    "\n",
    "k_folds = KFold(n_splits=4,shuffle=True,random_state=1)"
   ]
  },
  {
   "cell_type": "code",
   "execution_count": 31,
   "metadata": {},
   "outputs": [],
   "source": [
    "# Import the cross_validate class\n",
    "from sklearn.model_selection import cross_validate\n",
    "# Import the random forest classifier class\n",
    "from sklearn.ensemble import RandomForestClassifier"
   ]
  },
  {
   "cell_type": "code",
   "execution_count": 32,
   "metadata": {},
   "outputs": [],
   "source": [
    "# Instantiate the random forest class using the hyperparameters we've determined are best for the case study data: 200 trees\n",
    "# with maximum depth 9\n",
    "\n",
    "rf = RandomForestClassifier(n_estimators=200, criterion='gini', max_depth=9,min_samples_split=2, min_samples_leaf=1, min_weight_fraction_leaf=0.0,max_features='auto', max_leaf_nodes=None, min_impurity_decrease=0.0,min_impurity_split=None, bootstrap=True, oob_score=False, n_jobs=None,random_state=4, verbose=1, warm_start=False, class_weight=None)"
   ]
  },
  {
   "cell_type": "code",
   "execution_count": 34,
   "metadata": {},
   "outputs": [
    {
     "name": "stderr",
     "output_type": "stream",
     "text": [
      "[Parallel(n_jobs=-1)]: Using backend LokyBackend with 4 concurrent workers.\n",
      "[Parallel(n_jobs=-1)]: Done   2 out of   4 | elapsed:   17.8s remaining:   17.8s\n",
      "[Parallel(n_jobs=-1)]: Done   4 out of   4 | elapsed:   17.9s finished\n"
     ]
    },
    {
     "name": "stdout",
     "output_type": "stream",
     "text": [
      "mode imputation: mean testing score 0.772866246168149, std 0.0031479941297533737\n"
     ]
    },
    {
     "name": "stderr",
     "output_type": "stream",
     "text": [
      "[Parallel(n_jobs=-1)]: Using backend LokyBackend with 4 concurrent workers.\n",
      "[Parallel(n_jobs=-1)]: Done   2 out of   4 | elapsed:   18.8s remaining:   18.8s\n",
      "[Parallel(n_jobs=-1)]: Done   4 out of   4 | elapsed:   19.0s finished\n"
     ]
    },
    {
     "name": "stdout",
     "output_type": "stream",
     "text": [
      "random imputation: mean testing score 0.7692540439833129, std 0.003660875187678248\n"
     ]
    }
   ],
   "source": [
    "# Conducting cross-validation\n",
    "\n",
    "for counter in range(len(fill_values)):\n",
    "    df_fill_pay_1_filled = df_missing_pay_1.copy()\n",
    "    df_fill_pay_1_filled[\"PAY_1\"] = fill_values[counter]\n",
    "\n",
    "    X_fill_pay_1_train, X_fill_pay_1_test, y_fill_pay_1_train, y_fill_pay_1_test = \\\n",
    "    train_test_split(df_fill_pay_1_filled[features_response[:-1]].values,df_fill_pay_1_filled['default payment next month'].values,test_size=0.2, random_state=24)\n",
    "    X_train_all = np.concatenate((X_train, X_fill_pay_1_train), axis=0)\n",
    "    y_train_all = np.concatenate((y_train, y_fill_pay_1_train), axis=0)\n",
    "    \n",
    "    imputation_compare_cv = cross_validate(rf, X_train_all, y_train_all, scoring='roc_auc',cv=k_folds, n_jobs=-1, verbose=1,return_train_score=True, return_estimator=True,error_score='raise-deprecating')\n",
    "    test_score = imputation_compare_cv['test_score']\n",
    "    print(fill_strategy[counter] + ' imputation: ' +'mean testing score ' + str(np.mean(test_score)) +', std ' + str(np.std(test_score)))"
   ]
  },
  {
   "cell_type": "markdown",
   "metadata": {},
   "source": [
    "## A Predictive Model for PAY_1"
   ]
  },
  {
   "cell_type": "code",
   "execution_count": 35,
   "metadata": {},
   "outputs": [],
   "source": [
    "# Using a multiclass classification model to predict PAY_1\n",
    "\n"
   ]
  },
  {
   "cell_type": "code",
   "execution_count": 36,
   "metadata": {},
   "outputs": [],
   "source": [
    "# First create a copy of the cleaned DataFrame with non-missing values of PAY_1\n",
    "\n",
    "pay_1_df = df.copy()"
   ]
  },
  {
   "cell_type": "code",
   "execution_count": 37,
   "metadata": {},
   "outputs": [],
   "source": [
    "# Making a list of column names that will be features\n",
    "\n",
    "features_for_imputation = pay_1_df.columns.tolist()"
   ]
  },
  {
   "cell_type": "code",
   "execution_count": 38,
   "metadata": {},
   "outputs": [],
   "source": [
    "# Subset this down to the list of features for the imputation model by removing the names of all metadata as well as \"default payment next month\"\n",
    "# which we don't need here and \"PAY_1\"\n",
    "\n",
    "items_to_remove = [\"ID\",\"SEX\",\"PAY_2\",\"PAY_3\",\"PAY_4\",\"PAY_5\",\"PAY_6\",\"EDUCATION_CAT\",\"graduate school\",\"high school\",\"none\",\"others\",\"university\",\"default payment next month\",\"PAY_1\"]"
   ]
  },
  {
   "cell_type": "code",
   "execution_count": 39,
   "metadata": {},
   "outputs": [
    {
     "data": {
      "text/plain": [
       "['LIMIT_BAL',\n",
       " 'EDUCATION',\n",
       " 'MARRIAGE',\n",
       " 'AGE',\n",
       " 'BILL_AMT1',\n",
       " 'BILL_AMT2',\n",
       " 'BILL_AMT3',\n",
       " 'BILL_AMT4',\n",
       " 'BILL_AMT5',\n",
       " 'BILL_AMT6',\n",
       " 'PAY_AMT1',\n",
       " 'PAY_AMT2',\n",
       " 'PAY_AMT3',\n",
       " 'PAY_AMT4',\n",
       " 'PAY_AMT5',\n",
       " 'PAY_AMT6']"
      ]
     },
     "execution_count": 39,
     "metadata": {},
     "output_type": "execute_result"
    }
   ],
   "source": [
    "# Remove these items using a list comprehension\n",
    "\n",
    "features_for_imputation = [item for item in features_for_imputation if item not in items_to_remove]\n",
    "features_for_imputation"
   ]
  },
  {
   "cell_type": "markdown",
   "metadata": {},
   "source": [
    "## Building a Multiclass Classification Model for Imputation"
   ]
  },
  {
   "cell_type": "code",
   "execution_count": 40,
   "metadata": {},
   "outputs": [],
   "source": [
    "# Make a training and testing split of the imputation model data\n",
    "\n",
    "\n",
    "X_impute_train, X_impute_test, y_impute_train, y_impute_test = train_test_split(pay_1_df[features_for_imputation].values,pay_1_df['PAY_1'].values,test_size=0.2, random_state=24)"
   ]
  },
  {
   "cell_type": "code",
   "execution_count": 41,
   "metadata": {},
   "outputs": [],
   "source": [
    "# Select a grid hyperparameters to search using cross-validation\n",
    "\n",
    "rf_impute_params = {'max_depth':[3, 6, 9, 12],'n_estimators':[10, 50, 100, 200]}"
   ]
  },
  {
   "cell_type": "code",
   "execution_count": 42,
   "metadata": {},
   "outputs": [],
   "source": [
    "# Import and instantiate the GridSearchCV class\n",
    "\n",
    "from sklearn.model_selection import GridSearchCV\n",
    "\n",
    "cv_rf_impute = GridSearchCV(rf, param_grid=rf_impute_params, scoring='accuracy',n_jobs=-1, refit=True,cv=4, verbose=2, error_score=np.nan, return_train_score=True)"
   ]
  },
  {
   "cell_type": "code",
   "execution_count": 43,
   "metadata": {},
   "outputs": [
    {
     "name": "stdout",
     "output_type": "stream",
     "text": [
      "Fitting 4 folds for each of 16 candidates, totalling 64 fits\n"
     ]
    },
    {
     "name": "stderr",
     "output_type": "stream",
     "text": [
      "[Parallel(n_jobs=-1)]: Using backend LokyBackend with 4 concurrent workers.\n",
      "[Parallel(n_jobs=-1)]: Done  33 tasks      | elapsed:   47.5s\n",
      "[Parallel(n_jobs=-1)]: Done  64 out of  64 | elapsed:  2.2min finished\n",
      "[Parallel(n_jobs=1)]: Using backend SequentialBackend with 1 concurrent workers.\n",
      "[Parallel(n_jobs=1)]: Done 200 out of 200 | elapsed:   16.2s finished\n"
     ]
    },
    {
     "data": {
      "text/plain": [
       "GridSearchCV(cv=4,\n",
       "             estimator=RandomForestClassifier(max_depth=9, n_estimators=200,\n",
       "                                              random_state=4, verbose=1),\n",
       "             n_jobs=-1,\n",
       "             param_grid={'max_depth': [3, 6, 9, 12],\n",
       "                         'n_estimators': [10, 50, 100, 200]},\n",
       "             return_train_score=True, scoring='accuracy', verbose=2)"
      ]
     },
     "execution_count": 43,
     "metadata": {},
     "output_type": "execute_result"
    }
   ],
   "source": [
    "# Run the grid search\n",
    "\n",
    "cv_rf_impute.fit(X_impute_train, y_impute_train)"
   ]
  },
  {
   "cell_type": "code",
   "execution_count": 44,
   "metadata": {},
   "outputs": [
    {
     "data": {
      "text/plain": [
       "{'max_depth': 12, 'n_estimators': 200}"
      ]
     },
     "execution_count": 44,
     "metadata": {},
     "output_type": "execute_result"
    }
   ],
   "source": [
    "# Observe the hyperparameters from the best model of cross-validation\n",
    "\n",
    "cv_rf_impute.best_params_"
   ]
  },
  {
   "cell_type": "code",
   "execution_count": 45,
   "metadata": {},
   "outputs": [
    {
     "data": {
      "text/plain": [
       "0.7344242187492307"
      ]
     },
     "execution_count": 45,
     "metadata": {},
     "output_type": "execute_result"
    }
   ],
   "source": [
    "# The accuracy score of the best model is\n",
    "\n",
    "cv_rf_impute.best_score_"
   ]
  },
  {
   "cell_type": "code",
   "execution_count": 46,
   "metadata": {},
   "outputs": [
    {
     "data": {
      "text/plain": [
       "-2     2476\n",
       "-1     5047\n",
       " 0    13087\n",
       " 1     3261\n",
       " 2     2378\n",
       " 3      292\n",
       " 4       63\n",
       " 5       23\n",
       " 6       11\n",
       " 7        9\n",
       " 8       17\n",
       "Name: PAY_1, dtype: int64"
      ]
     },
     "execution_count": 46,
     "metadata": {},
     "output_type": "execute_result"
    }
   ],
   "source": [
    "# Examining the value counts of PAY_1 in pay_1_df to see the relative frequency of different values\n",
    "pay_1_value_counts = pay_1_df[\"PAY_1\"].value_counts().sort_index()\n",
    "pay_1_value_counts"
   ]
  },
  {
   "cell_type": "code",
   "execution_count": 47,
   "metadata": {},
   "outputs": [
    {
     "data": {
      "text/plain": [
       "-2    0.092859\n",
       "-1    0.189281\n",
       " 0    0.490812\n",
       " 1    0.122300\n",
       " 2    0.089184\n",
       " 3    0.010951\n",
       " 4    0.002363\n",
       " 5    0.000863\n",
       " 6    0.000413\n",
       " 7    0.000338\n",
       " 8    0.000638\n",
       "Name: PAY_1, dtype: float64"
      ]
     },
     "execution_count": 47,
     "metadata": {},
     "output_type": "execute_result"
    }
   ],
   "source": [
    "#Show the relative frequency of PAY_1 values as fractions \n",
    "\n",
    "pay_1_value_counts/pay_1_value_counts.sum()"
   ]
  },
  {
   "cell_type": "code",
   "execution_count": 48,
   "metadata": {},
   "outputs": [
    {
     "name": "stderr",
     "output_type": "stream",
     "text": [
      "[Parallel(n_jobs=1)]: Using backend SequentialBackend with 1 concurrent workers.\n",
      "[Parallel(n_jobs=1)]: Done 200 out of 200 | elapsed:    0.2s finished\n"
     ]
    }
   ],
   "source": [
    "# Checking that the cross-validation accuracy generalizes to the test set\n",
    "\n",
    "y_impute_predict = cv_rf_impute.predict(X_impute_test)"
   ]
  },
  {
   "cell_type": "code",
   "execution_count": 49,
   "metadata": {},
   "outputs": [
    {
     "data": {
      "text/plain": [
       "0.7391711981998875"
      ]
     },
     "execution_count": 49,
     "metadata": {},
     "output_type": "execute_result"
    }
   ],
   "source": [
    "# Importing the accuracy_score class to see the accuracy of testing predictions\n",
    "from sklearn import metrics\n",
    "\n",
    "metrics.accuracy_score(y_impute_test,y_impute_predict)"
   ]
  },
  {
   "cell_type": "code",
   "execution_count": 50,
   "metadata": {},
   "outputs": [
    {
     "data": {
      "image/png": "[encoded data removed]",
      "text/plain": [
       "<Figure size 576x216 with 2 Axes>"
      ]
     },
     "metadata": {
      "needs_background": "light"
     },
     "output_type": "display_data"
    }
   ],
   "source": [
    "# Plotting actual values and predictions for the held-out test set\n",
    "\n",
    "fig, axs = plt.subplots(1,2, figsize=(8,3))\n",
    "axs[0].hist(y_impute_test, bins=bin_edges, align='left')\n",
    "axs[0].set_xticks(bin_edges)\n",
    "axs[0].set_title('Non-missing values of PAY_1')\n",
    "axs[1].hist(y_impute_predict, bins=bin_edges, align='left')\n",
    "axs[1].set_xticks(bin_edges)\n",
    "axs[1].set_title('Model-based imputation')\n",
    "plt.tight_layout()"
   ]
  },
  {
   "cell_type": "code",
   "execution_count": 51,
   "metadata": {},
   "outputs": [],
   "source": [
    "#Collecting all the values with known PAY_1 to train the final version of the imputation model\n",
    "X_impute_all = pay_1_df[features_for_imputation].values\n",
    "y_impute_all = pay_1_df['PAY_1'].values"
   ]
  },
  {
   "cell_type": "code",
   "execution_count": 52,
   "metadata": {},
   "outputs": [],
   "source": [
    "# Define a random forest model with the optimal hyperparameters for imputation\n",
    "\n",
    "rf_impute = RandomForestClassifier(n_estimators = 100, max_depth=12)"
   ]
  },
  {
   "cell_type": "code",
   "execution_count": 53,
   "metadata": {},
   "outputs": [
    {
     "data": {
      "text/plain": [
       "RandomForestClassifier(max_depth=12)"
      ]
     },
     "execution_count": 53,
     "metadata": {},
     "output_type": "execute_result"
    }
   ],
   "source": [
    "# Fit the imputation model on all available data\n",
    "\n",
    "rf_impute.fit(X_impute_all,y_impute_all)"
   ]
  },
  {
   "cell_type": "markdown",
   "metadata": {},
   "source": [
    "## Using the Imputation Model and Comparing it to Other Methods"
   ]
  },
  {
   "cell_type": "code",
   "execution_count": 54,
   "metadata": {},
   "outputs": [
    {
     "data": {
      "text/plain": [
       "17    Not available\n",
       "28    Not available\n",
       "29    Not available\n",
       "54    Not available\n",
       "60    Not available\n",
       "Name: PAY_1, dtype: object"
      ]
     },
     "execution_count": 54,
     "metadata": {},
     "output_type": "execute_result"
    }
   ],
   "source": [
    "# Making a copy of the DataFrame with the missing PAY_1 data\n",
    "df_fill_pay_1_model = df_missing_pay_1.copy()\n",
    "df_fill_pay_1_model[\"PAY_1\"].head()"
   ]
  },
  {
   "cell_type": "code",
   "execution_count": 55,
   "metadata": {},
   "outputs": [],
   "source": [
    "# Replace the missing values with the imputation model predictions\n",
    "\n",
    "df_fill_pay_1_model[\"PAY_1\"] = rf_impute.predict(df_fill_pay_1_model[features_for_imputation].values)"
   ]
  },
  {
   "cell_type": "code",
   "execution_count": 56,
   "metadata": {},
   "outputs": [
    {
     "data": {
      "text/plain": [
       "17    0\n",
       "28   -1\n",
       "29    0\n",
       "54    0\n",
       "60    0\n",
       "Name: PAY_1, dtype: int64"
      ]
     },
     "execution_count": 56,
     "metadata": {},
     "output_type": "execute_result"
    }
   ],
   "source": [
    "#Examining the values of PAY_1 to confirm that they have been imputed\n",
    "\n",
    "df_fill_pay_1_model[\"PAY_1\"].head()"
   ]
  },
  {
   "cell_type": "code",
   "execution_count": 57,
   "metadata": {},
   "outputs": [
    {
     "data": {
      "text/plain": [
       "-2      30\n",
       "-1     763\n",
       " 0    1715\n",
       " 1     438\n",
       " 2      64\n",
       " 3       7\n",
       " 4       2\n",
       " 6       1\n",
       " 8       1\n",
       "Name: PAY_1, dtype: int64"
      ]
     },
     "execution_count": 57,
     "metadata": {},
     "output_type": "execute_result"
    }
   ],
   "source": [
    "# Examining the predictions using the value_counts method\n",
    "\n",
    "df_fill_pay_1_model[\"PAY_1\"].value_counts().sort_index()"
   ]
  },
  {
   "cell_type": "code",
   "execution_count": 58,
   "metadata": {},
   "outputs": [],
   "source": [
    "#Splitting the model imputed data as follows\n",
    "\n",
    "\n",
    "X_fill_pay_1_train, X_fill_pay_1_test, y_fill_pay_1_train, y_fill_pay_1_test = train_test_split(df_fill_pay_1_model[features_response[:-1]].values,df_fill_pay_1_model['default payment next month'].values,test_size=0.2, random_state=24)"
   ]
  },
  {
   "cell_type": "code",
   "execution_count": 59,
   "metadata": {},
   "outputs": [],
   "source": [
    "# Combine this with the data with known PAY_1\n",
    "\n",
    "X_train_all = np.concatenate((X_train, X_fill_pay_1_train), axis=0)\n",
    "y_train_all = np.concatenate((y_train, y_fill_pay_1_train), axis=0)"
   ]
  },
  {
   "cell_type": "code",
   "execution_count": 60,
   "metadata": {},
   "outputs": [
    {
     "data": {
      "text/plain": [
       "RandomForestClassifier(max_depth=9, n_estimators=200, random_state=4, verbose=1)"
      ]
     },
     "execution_count": 60,
     "metadata": {},
     "output_type": "execute_result"
    }
   ],
   "source": [
    "# Comfirm that the rf object still holds the model with optimal hyperparameters for the case study\n",
    "rf"
   ]
  },
  {
   "cell_type": "code",
   "execution_count": 61,
   "metadata": {},
   "outputs": [
    {
     "name": "stderr",
     "output_type": "stream",
     "text": [
      "[Parallel(n_jobs=-1)]: Using backend LokyBackend with 4 concurrent workers.\n",
      "[Parallel(n_jobs=-1)]: Done   2 out of   4 | elapsed:   26.2s remaining:   26.2s\n",
      "[Parallel(n_jobs=-1)]: Done   4 out of   4 | elapsed:   26.4s finished\n"
     ]
    }
   ],
   "source": [
    "# Use this model with the combined imputed and non-missing training data in cross-validation as we did with the other imputation\n",
    "# methods, to test model-based imputation\n",
    "\n",
    "imputation_compare_cv = cross_validate(rf, X_train_all, y_train_all, scoring='roc_auc',cv=k_folds, n_jobs=-1, verbose=1,return_train_score=True, return_estimator=True,error_score='raise-deprecating')"
   ]
  },
  {
   "cell_type": "code",
   "execution_count": 63,
   "metadata": {},
   "outputs": [
    {
     "data": {
      "text/plain": [
       "0.7726757126815554"
      ]
     },
     "execution_count": 63,
     "metadata": {},
     "output_type": "execute_result"
    }
   ],
   "source": [
    "#Examining the avg model testing score across the four folds\n",
    "np.mean(imputation_compare_cv[\"test_score\"])"
   ]
  },
  {
   "cell_type": "code",
   "execution_count": 64,
   "metadata": {},
   "outputs": [],
   "source": [
    "#Using mode based imputation was better so that what we will use\n",
    "\n",
    "df_fill_pay_1_model[\"PAY_1\"] = np.zeros_like(df_fill_pay_1_model[\"PAY_1\"].values)"
   ]
  },
  {
   "cell_type": "code",
   "execution_count": 65,
   "metadata": {},
   "outputs": [],
   "source": [
    "# We repeat the splitting of the imputed data\n",
    "\n",
    "X_fill_pay_1_train, X_fill_pay_1_test, y_fill_pay_1_train, y_fill_pay_1_test = train_test_split(df_fill_pay_1_model[features_response[:-1]].values,df_fill_pay_1_model['default payment next month'].values,test_size=0.2, random_state=24)"
   ]
  },
  {
   "cell_type": "code",
   "execution_count": 66,
   "metadata": {},
   "outputs": [],
   "source": [
    "# Combining the non-missing data, this time including the unseen test set\n",
    "\n",
    "X_train_all = np.concatenate((X_train, X_fill_pay_1_train), axis=0)\n",
    "X_test_all = np.concatenate((X_test, X_fill_pay_1_test), axis=0)\n",
    "y_train_all = np.concatenate((y_train, y_fill_pay_1_train), axis=0)\n",
    "y_test_all = np.concatenate((y_test, y_fill_pay_1_test), axis=0)"
   ]
  },
  {
   "cell_type": "code",
   "execution_count": 67,
   "metadata": {},
   "outputs": [
    {
     "name": "stderr",
     "output_type": "stream",
     "text": [
      "[Parallel(n_jobs=-1)]: Using backend LokyBackend with 4 concurrent workers.\n",
      "[Parallel(n_jobs=-1)]: Done   2 out of   4 | elapsed:   26.6s remaining:   26.6s\n",
      "[Parallel(n_jobs=-1)]: Done   4 out of   4 | elapsed:   26.7s finished\n"
     ]
    }
   ],
   "source": [
    "# To confirm that the data has been restored to the state it was in when we tested mode-based imputation earlier we run the\n",
    "# cross-validation to confirm that we get the same score\n",
    "\n",
    "imputation_compare_cv = cross_validate(rf, X_train_all, y_train_all, scoring='roc_auc',cv=k_folds, n_jobs=-1, verbose=1,return_train_score=True, return_estimator=True,error_score='raise-deprecating')"
   ]
  },
  {
   "cell_type": "code",
   "execution_count": 68,
   "metadata": {},
   "outputs": [
    {
     "data": {
      "text/plain": [
       "0.772866246168149"
      ]
     },
     "execution_count": 68,
     "metadata": {},
     "output_type": "execute_result"
    }
   ],
   "source": [
    "# After running the cross-validation compute the avg score\n",
    "np.mean(imputation_compare_cv[\"test_score\"])"
   ]
  },
  {
   "cell_type": "code",
   "execution_count": 69,
   "metadata": {},
   "outputs": [
    {
     "name": "stderr",
     "output_type": "stream",
     "text": [
      "[Parallel(n_jobs=1)]: Using backend SequentialBackend with 1 concurrent workers.\n",
      "[Parallel(n_jobs=1)]: Done 200 out of 200 | elapsed:   12.2s finished\n"
     ]
    },
    {
     "data": {
      "text/plain": [
       "RandomForestClassifier(max_depth=9, n_estimators=200, random_state=4, verbose=1)"
      ]
     },
     "execution_count": 69,
     "metadata": {},
     "output_type": "execute_result"
    }
   ],
   "source": [
    "# Using the training and testing data to train the final model\n",
    "\n",
    "rf.fit(X_train_all,y_train_all)"
   ]
  },
  {
   "cell_type": "code",
   "execution_count": 70,
   "metadata": {},
   "outputs": [
    {
     "name": "stderr",
     "output_type": "stream",
     "text": [
      "[Parallel(n_jobs=1)]: Using backend SequentialBackend with 1 concurrent workers.\n",
      "[Parallel(n_jobs=1)]: Done 200 out of 200 | elapsed:    0.4s finished\n"
     ]
    }
   ],
   "source": [
    "# Making the predictions for credit default on the testing set. We need to predict probabilities to calculate ROC AUC\n",
    "\n",
    "y_test_all_predict_proba = rf.predict_proba(X_test_all)"
   ]
  },
  {
   "cell_type": "code",
   "execution_count": 71,
   "metadata": {},
   "outputs": [
    {
     "data": {
      "text/plain": [
       "0.7696243835824927"
      ]
     },
     "execution_count": 71,
     "metadata": {},
     "output_type": "execute_result"
    }
   ],
   "source": [
    "# Import the roc_auc_score function and calculate the testing score\n",
    "\n",
    "from sklearn.metrics import roc_auc_score\n",
    "roc_auc_score(y_test_all, y_test_all_predict_proba[:,1])"
   ]
  },
  {
   "cell_type": "markdown",
   "metadata": {},
   "source": [
    "# Characterizing Costs and Savings"
   ]
  },
  {
   "cell_type": "code",
   "execution_count": 72,
   "metadata": {},
   "outputs": [],
   "source": [
    "# Create a range of thresholds to calculate expected costs and benefits of counseling\n",
    "\n",
    "thresholds = np.linspace(0,1,101)"
   ]
  },
  {
   "cell_type": "code",
   "execution_count": 73,
   "metadata": {},
   "outputs": [
    {
     "data": {
      "text/plain": [
       "'BILL_AMT1'"
      ]
     },
     "execution_count": 73,
     "metadata": {},
     "output_type": "execute_result"
    }
   ],
   "source": [
    "# Confirm the index of the testing data features array that corresponds to the most recent month's bill\n",
    "df[features_response[:-1]].columns[5]"
   ]
  },
  {
   "cell_type": "code",
   "execution_count": 74,
   "metadata": {},
   "outputs": [
    {
     "data": {
      "text/plain": [
       "51601.7433479286"
      ]
     },
     "execution_count": 74,
     "metadata": {},
     "output_type": "execute_result"
    }
   ],
   "source": [
    "# Capture the avg bill amount as the potential savings per default and observe it\n",
    "\n",
    "savings_per_default = np.mean(X_test_all[:, 5])\n",
    "savings_per_default"
   ]
  },
  {
   "cell_type": "code",
   "execution_count": 75,
   "metadata": {},
   "outputs": [],
   "source": [
    "#Store the cost of counseling in a variable to use for analysis\n",
    "cost_per_counseling = 7500\n",
    "\n"
   ]
  },
  {
   "cell_type": "code",
   "execution_count": 76,
   "metadata": {},
   "outputs": [],
   "source": [
    "#Store the effectiveness rate the client gave us for use in analysis\n",
    "effectiveness = 0.70"
   ]
  },
  {
   "cell_type": "code",
   "execution_count": 77,
   "metadata": {},
   "outputs": [],
   "source": [
    "#Create empty arrays to store analysis results\n",
    "n_pos_pred = np.empty_like(thresholds)\n",
    "cost_of_all_counselings = np.empty_like(thresholds)\n",
    "n_true_pos = np.empty_like(thresholds)\n",
    "savings_of_all_counselings = np.empty_like(thresholds)"
   ]
  },
  {
   "cell_type": "code",
   "execution_count": 78,
   "metadata": {},
   "outputs": [],
   "source": [
    "# Make a counter variable and open a for loop to go through thresholds\n",
    "\n",
    "counter = 0"
   ]
  },
  {
   "cell_type": "code",
   "execution_count": 80,
   "metadata": {},
   "outputs": [],
   "source": [
    "# Determine which accounts get positive predictions \n",
    "counter = 0\n",
    "for threshold in thresholds:\n",
    "    pos_pred = y_test_all_predict_proba[:,1]>threshold\n",
    "    n_pos_pred[counter] = sum(pos_pred)\n",
    "    cost_of_all_counselings[counter] = n_pos_pred[counter] * cost_per_counseling\n",
    "    true_pos = pos_pred & y_test_all.astype(bool)\n",
    "    n_true_pos[counter] = sum(true_pos)\n",
    "    savings_of_all_counselings[counter] = n_true_pos[counter] * savings_per_default * effectiveness\n",
    "    \n",
    "    counter += 1"
   ]
  },
  {
   "cell_type": "code",
   "execution_count": 81,
   "metadata": {},
   "outputs": [],
   "source": [
    "#Calculate net savings for all the theresholds by subtracting the savings and cost arrays\n",
    "\n",
    "net_savings = savings_of_all_counselings - cost_of_all_counselings"
   ]
  },
  {
   "cell_type": "code",
   "execution_count": 82,
   "metadata": {},
   "outputs": [
    {
     "data": {
      "image/png": "[encoded data removed]",
      "text/plain": [
       "<Figure size 432x288 with 1 Axes>"
      ]
     },
     "metadata": {
      "needs_background": "light"
     },
     "output_type": "display_data"
    }
   ],
   "source": [
    "# Plot the net saving against the threshold\n",
    "plt.plot(thresholds,net_savings)\n",
    "plt.xlabel(\"Threshold\")\n",
    "plt.ylabel(\"Net savings (NT$)\")\n",
    "plt.xticks(np.linspace(0,1,11))\n",
    "plt.grid(True)"
   ]
  },
  {
   "cell_type": "code",
   "execution_count": 83,
   "metadata": {},
   "outputs": [],
   "source": [
    "# Find the index of the largest element of the net saving array using numpy's argmax\n",
    "\n",
    "max_savings_ix = np.argmax(net_savings)"
   ]
  },
  {
   "cell_type": "code",
   "execution_count": 84,
   "metadata": {},
   "outputs": [
    {
     "data": {
      "text/plain": [
       "0.2"
      ]
     },
     "execution_count": 84,
     "metadata": {},
     "output_type": "execute_result"
    }
   ],
   "source": [
    "# Display the threshold that results in the greatest net savings\n",
    "\n",
    "thresholds[max_savings_ix]"
   ]
  },
  {
   "cell_type": "code",
   "execution_count": 85,
   "metadata": {},
   "outputs": [
    {
     "data": {
      "text/plain": [
       "15446325.35991916"
      ]
     },
     "execution_count": 85,
     "metadata": {},
     "output_type": "execute_result"
    }
   ],
   "source": [
    "# Display the greatest possible net savings\n",
    "\n",
    "net_savings[max_savings_ix]"
   ]
  },
  {
   "cell_type": "code",
   "execution_count": null,
   "metadata": {},
   "outputs": [],
   "source": []
  }
 ],
 "metadata": {
  "kernelspec": {
   "display_name": "Python 3",
   "language": "python",
   "name": "python3"
  },
  "language_info": {
   "codemirror_mode": {
    "name": "ipython",
    "version": 3
   },
   "file_extension": ".py",
   "mimetype": "text/x-python",
   "name": "python",
   "nbconvert_exporter": "python",
   "pygments_lexer": "ipython3",
   "version": "3.8.3"
  }
 },
 "nbformat": 4,
 "nbformat_minor": 4
}
