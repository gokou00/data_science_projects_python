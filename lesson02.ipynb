{
 "cells": [
  {
   "cell_type": "markdown",
   "metadata": {},
   "source": [
    "# Intro to Scikit-Learn and Model Evaluation "
   ]
  },
  {
   "cell_type": "markdown",
   "metadata": {},
   "source": [
    "># Exploring the Response Variable an Concluding the Initial Exploration "
   ]
  },
  {
   "cell_type": "code",
   "execution_count": 1,
   "metadata": {},
   "outputs": [],
   "source": [
    "#Loading the reqiured packages and dataset to use for our analysis\n",
    "\n",
    "import numpy as np\n",
    "import pandas as pd\n",
    "import matplotlib.pyplot as plt\n",
    "%matplotlib inline\n",
    "import matplotlib as mpl\n",
    "\n",
    "#loading the dataset will cleaned earlier \n",
    "\n",
    "df = pd.read_csv(\"Chapter_1_cleaned_data.csv\")"
   ]
  },
  {
   "cell_type": "code",
   "execution_count": 2,
   "metadata": {},
   "outputs": [
    {
     "data": {
      "text/plain": [
       "0.2217971797179718"
      ]
     },
     "execution_count": 2,
     "metadata": {},
     "output_type": "execute_result"
    }
   ],
   "source": [
    "# Now to find the proportion of the positive class which is the group that has \"default payment next month = 1\"  \n",
    "# In short this is the group that has defaulted. The negative class are those that did not \n",
    "\n",
    "#Getting the avg of accounts that have defaulted since the target variable is a 0 or 1 We can just take the avg of the col\n",
    "\n",
    "df[\"default payment next month\"].mean()"
   ]
  },
  {
   "cell_type": "code",
   "execution_count": 3,
   "metadata": {},
   "outputs": [
    {
     "data": {
      "text/plain": [
       "default payment next month\n",
       "0    20750\n",
       "1     5914\n",
       "Name: ID, dtype: int64"
      ]
     },
     "execution_count": 3,
     "metadata": {},
     "output_type": "execute_result"
    }
   ],
   "source": [
    "# avg of accounts that have defaulted is 22% \n",
    "\n",
    "# obtaining the counts for each class\n",
    "\n",
    "df.groupby(\"default payment next month\")[\"ID\"].count()"
   ]
  },
  {
   "cell_type": "code",
   "execution_count": 4,
   "metadata": {},
   "outputs": [],
   "source": [
    "# While 22% is low it is sufficient for us to accomplish our task "
   ]
  },
  {
   "cell_type": "markdown",
   "metadata": {},
   "source": [
    "# Introduction to Scikit-Learn"
   ]
  },
  {
   "cell_type": "code",
   "execution_count": 5,
   "metadata": {},
   "outputs": [
    {
     "data": {
      "text/plain": [
       "LogisticRegression()"
      ]
     },
     "execution_count": 5,
     "metadata": {},
     "output_type": "execute_result"
    }
   ],
   "source": [
    "# First steps in creating the Logistic Regression model\n",
    "\n",
    "from sklearn.linear_model import LogisticRegression\n",
    "my_lr = LogisticRegression()\n",
    "my_lr"
   ]
  },
  {
   "cell_type": "code",
   "execution_count": 6,
   "metadata": {},
   "outputs": [],
   "source": [
    "my_new_lr = LogisticRegression(C= 1.0,class_weight=None,dual=False,fit_intercept=True,intercept_scaling=1,max_iter=100,multi_class=\"auto\",n_jobs=None,penalty=\"l2\",random_state=None,solver=\"warn\",tol=0.0001,verbose=0,warm_start=False)"
   ]
  },
  {
   "cell_type": "code",
   "execution_count": 7,
   "metadata": {},
   "outputs": [
    {
     "data": {
      "text/plain": [
       "LogisticRegression(C=0.1, solver='liblinear')"
      ]
     },
     "execution_count": 7,
     "metadata": {},
     "output_type": "execute_result"
    }
   ],
   "source": [
    "my_new_lr.C= 0.1\n",
    "my_new_lr.solver = \"liblinear\"\n",
    "my_new_lr"
   ]
  },
  {
   "cell_type": "code",
   "execution_count": 8,
   "metadata": {},
   "outputs": [
    {
     "data": {
      "text/plain": [
       "array([[2],\n",
       "       [2],\n",
       "       [2],\n",
       "       [2],\n",
       "       [2],\n",
       "       [1],\n",
       "       [1],\n",
       "       [2],\n",
       "       [3],\n",
       "       [3]], dtype=int64)"
      ]
     },
     "execution_count": 8,
     "metadata": {},
     "output_type": "execute_result"
    }
   ],
   "source": [
    "# testing our model with data we obtain the first 10 samples from the education feauture called X and the response variable y\n",
    "\n",
    "X = df[\"EDUCATION\"][0:10].values.reshape(-1,1)\n",
    "X"
   ]
  },
  {
   "cell_type": "code",
   "execution_count": 9,
   "metadata": {},
   "outputs": [
    {
     "data": {
      "text/plain": [
       "array([1, 1, 0, 0, 0, 0, 0, 0, 0, 0], dtype=int64)"
      ]
     },
     "execution_count": 9,
     "metadata": {},
     "output_type": "execute_result"
    }
   ],
   "source": [
    "y = df[\"default payment next month\"][:10].values\n",
    "y"
   ]
  },
  {
   "cell_type": "code",
   "execution_count": 10,
   "metadata": {},
   "outputs": [
    {
     "data": {
      "text/plain": [
       "LogisticRegression(C=0.1, solver='liblinear')"
      ]
     },
     "execution_count": 10,
     "metadata": {},
     "output_type": "execute_result"
    }
   ],
   "source": [
    "# now using the data to fit our logistic regression \n",
    "my_new_lr.fit(X,y)"
   ]
  },
  {
   "cell_type": "code",
   "execution_count": 11,
   "metadata": {},
   "outputs": [
    {
     "data": {
      "text/plain": [
       "array([[3],\n",
       "       [1],\n",
       "       [2],\n",
       "       [2],\n",
       "       [1],\n",
       "       [3],\n",
       "       [1],\n",
       "       [1],\n",
       "       [1],\n",
       "       [3]], dtype=int64)"
      ]
     },
     "execution_count": 11,
     "metadata": {},
     "output_type": "execute_result"
    }
   ],
   "source": [
    "# We now have a trained model in my_new_lr the change happened inplace\n",
    "\n",
    "#Now we use the model to make predictions on new data\n",
    "\n",
    "\n",
    "new_X = df[\"EDUCATION\"][10:20].values.reshape(-1,1)\n",
    "new_X"
   ]
  },
  {
   "cell_type": "code",
   "execution_count": 12,
   "metadata": {},
   "outputs": [
    {
     "data": {
      "text/plain": [
       "array([0, 0, 0, 0, 0, 0, 0, 0, 0, 0], dtype=int64)"
      ]
     },
     "execution_count": 12,
     "metadata": {},
     "output_type": "execute_result"
    }
   ],
   "source": [
    "# making a new predictions like this \n",
    "\n",
    "my_new_lr.predict(new_X)"
   ]
  },
  {
   "cell_type": "code",
   "execution_count": 13,
   "metadata": {},
   "outputs": [
    {
     "data": {
      "text/plain": [
       "array([0, 0, 0, 1, 0, 0, 1, 0, 0, 0], dtype=int64)"
      ]
     },
     "execution_count": 13,
     "metadata": {},
     "output_type": "execute_result"
    }
   ],
   "source": [
    "# Viewing what the true values corresponding to these predictions\n",
    "\n",
    "df[\"default payment next month\"][10:20].values"
   ]
  },
  {
   "cell_type": "markdown",
   "metadata": {},
   "source": [
    "# Generating Synthetic Data"
   ]
  },
  {
   "cell_type": "code",
   "execution_count": 14,
   "metadata": {},
   "outputs": [
    {
     "data": {
      "text/plain": [
       "array([4.17022005e+00, 7.20324493e+00, 1.14374817e-03, 3.02332573e+00,\n",
       "       1.46755891e+00, 9.23385948e-01, 1.86260211e+00, 3.45560727e+00,\n",
       "       3.96767474e+00, 5.38816734e+00])"
      ]
     },
     "execution_count": 14,
     "metadata": {},
     "output_type": "execute_result"
    }
   ],
   "source": [
    "# creating a numpy 1d array of feature X consisting of 1000 random real numbers between 0 and 10. We will seed the random number\n",
    "# generator. Then we will use numpy.random.uniform which draws from the uniform distribution and return an array of whatever size\n",
    "# we specify\n",
    "\n",
    "np.random.seed(seed=1)\n",
    "X = np.random.uniform(low=0.0,high=10.0,size=(1000,))\n",
    "X[:10]"
   ]
  },
  {
   "cell_type": "markdown",
   "metadata": {},
   "source": [
    "# Data for a Linear Regression"
   ]
  },
  {
   "cell_type": "code",
   "execution_count": 15,
   "metadata": {},
   "outputs": [],
   "source": [
    "# to implement the response variable we calculate the slope times the feature array X plus some gaussian noise using numpy and an \n",
    "# intercept\n",
    "\n",
    "# we first create the seed\n",
    "\n",
    "np.random.seed(seed=1)\n",
    "\n",
    "# We create the slope and intercept\n",
    "\n",
    "slope = 0.25\n",
    "intercept = -1.25\n",
    "\n",
    "# Now we create the response variable using the equation for a line with the addition of some gaussian noise \n",
    "\n",
    "y = slope * X + np.random.normal(loc=0.0,scale=1.0,size=(1000,)) + intercept\n"
   ]
  },
  {
   "cell_type": "code",
   "execution_count": 16,
   "metadata": {},
   "outputs": [
    {
     "data": {
      "text/plain": [
       "<matplotlib.collections.PathCollection at 0x17bd6c136d0>"
      ]
     },
     "execution_count": 16,
     "metadata": {},
     "output_type": "execute_result"
    },
    {
     "data": {
      "image/png": "[encoded data removed]",
      "text/plain": [
       "<Figure size 432x288 with 1 Axes>"
      ]
     },
     "metadata": {
      "needs_background": "light"
     },
     "output_type": "display_data"
    }
   ],
   "source": [
    "# Now to visualize the data using a scatter plot\n",
    "plt.scatter(X,y,s=1)"
   ]
  },
  {
   "cell_type": "code",
   "execution_count": 17,
   "metadata": {},
   "outputs": [],
   "source": [
    "# This is exactly what we hoped for noisy linear data"
   ]
  },
  {
   "cell_type": "markdown",
   "metadata": {},
   "source": [
    "# Linear Regression in Scikit-Learn"
   ]
  },
  {
   "cell_type": "code",
   "execution_count": 18,
   "metadata": {},
   "outputs": [
    {
     "data": {
      "text/plain": [
       "LinearRegression()"
      ]
     },
     "execution_count": 18,
     "metadata": {},
     "output_type": "execute_result"
    }
   ],
   "source": [
    "# creating a linear regression model using the default options. Linear Regression does not have as many options as Logistic\n",
    "\n",
    "from sklearn.linear_model import LinearRegression\n",
    "lin_reg = LinearRegression()\n",
    "lin_reg"
   ]
  },
  {
   "cell_type": "code",
   "execution_count": 19,
   "metadata": {},
   "outputs": [
    {
     "name": "stdout",
     "output_type": "stream",
     "text": [
      "-1.161256600282589\n",
      "[0.24002588]\n"
     ]
    }
   ],
   "source": [
    "# now fitting the model and examining the intercept and coefficients\n",
    "\n",
    "lin_reg.fit(X.reshape(-1,1),y)\n",
    "print(lin_reg.intercept_)\n",
    "print(lin_reg.coef_)"
   ]
  },
  {
   "cell_type": "code",
   "execution_count": 20,
   "metadata": {},
   "outputs": [],
   "source": [
    "# finally we use the model to make predictions on feature values using the same feature data \n",
    "\n",
    "y_pred = lin_reg.predict(X.reshape(-1,1))"
   ]
  },
  {
   "cell_type": "code",
   "execution_count": 21,
   "metadata": {},
   "outputs": [
    {
     "data": {
      "text/plain": [
       "[<matplotlib.lines.Line2D at 0x17bd6cc4c10>]"
      ]
     },
     "execution_count": 21,
     "metadata": {},
     "output_type": "execute_result"
    },
    {
     "data": {
      "image/png": "[encoded data removed]",
      "text/plain": [
       "<Figure size 432x288 with 1 Axes>"
      ]
     },
     "metadata": {
      "needs_background": "light"
     },
     "output_type": "display_data"
    }
   ],
   "source": [
    "# plotting y_pred against feature X as a line plot over the scatter plot of the feature and response data\n",
    "\n",
    "plt.scatter(X,y,s=1)\n",
    "plt.plot(X,y_pred,\"r\")"
   ]
  },
  {
   "cell_type": "markdown",
   "metadata": {},
   "source": [
    "# Model Performance Metrics for Binary Classification"
   ]
  },
  {
   "cell_type": "code",
   "execution_count": 22,
   "metadata": {},
   "outputs": [],
   "source": [
    "# Will add the two things to consider when choosing a metric later pg. 110"
   ]
  },
  {
   "cell_type": "markdown",
   "metadata": {},
   "source": [
    "# Splitting the Data: Training and Testing sets"
   ]
  },
  {
   "cell_type": "code",
   "execution_count": 23,
   "metadata": {},
   "outputs": [],
   "source": [
    "# Using use the built in function train_test_split within scikit-learn to split the data so that 80% will be used for training \n",
    "# and 20% used for testing\n",
    "\n",
    "\n",
    "from sklearn.model_selection import train_test_split\n",
    "\n",
    "X_train, X_test, y_train,y_test = train_test_split(df[\"EDUCATION\"].values.reshape(-1,1),df[\"default payment next month\"].values,test_size=0.2,random_state=24)"
   ]
  },
  {
   "cell_type": "code",
   "execution_count": 24,
   "metadata": {},
   "outputs": [
    {
     "name": "stdout",
     "output_type": "stream",
     "text": [
      "(21331, 1)\n",
      "(5333, 1)\n",
      "(21331,)\n",
      "(5333,)\n"
     ]
    }
   ],
   "source": [
    "print(X_train.shape)\n",
    "print(X_test.shape)\n",
    "print(y_train.shape)\n",
    "print(y_test.shape)"
   ]
  },
  {
   "cell_type": "code",
   "execution_count": 25,
   "metadata": {},
   "outputs": [
    {
     "name": "stdout",
     "output_type": "stream",
     "text": [
      "0.223102526838873\n",
      "0.21657603600225014\n"
     ]
    }
   ],
   "source": [
    "# Testing to see if the nature of the data is the same between sets. In this case testing to see if fraction of the positive class\n",
    "# similar\n",
    "print(np.mean(y_train))\n",
    "print(np.mean(y_test))"
   ]
  },
  {
   "cell_type": "code",
   "execution_count": 26,
   "metadata": {},
   "outputs": [],
   "source": [
    "# This good they are also similiar to the overall data"
   ]
  },
  {
   "cell_type": "markdown",
   "metadata": {},
   "source": [
    "# Classification Accuracy"
   ]
  },
  {
   "cell_type": "code",
   "execution_count": 27,
   "metadata": {},
   "outputs": [],
   "source": [
    "# We proceed to fit an example model to illustrate binary classification metrics. We will continue to use a logistic regression\n",
    "# with near-default options. \n",
    "\n",
    "from sklearn.linear_model import LogisticRegression"
   ]
  },
  {
   "cell_type": "code",
   "execution_count": 28,
   "metadata": {},
   "outputs": [],
   "source": [
    "example_lr = LogisticRegression(C= 1.0,class_weight=None,dual=False,fit_intercept=True,intercept_scaling=1,max_iter=100,multi_class=\"auto\",n_jobs=None,penalty=\"l2\",random_state=None,solver=\"liblinear\",tol=0.0001,verbose=0,warm_start=False)"
   ]
  },
  {
   "cell_type": "code",
   "execution_count": 29,
   "metadata": {},
   "outputs": [
    {
     "data": {
      "text/plain": [
       "LogisticRegression(solver='liblinear')"
      ]
     },
     "execution_count": 29,
     "metadata": {},
     "output_type": "execute_result"
    }
   ],
   "source": [
    "# Now we proceed to train the model \n",
    "\n",
    "example_lr.fit(X_train,y_train)"
   ]
  },
  {
   "cell_type": "code",
   "execution_count": 30,
   "metadata": {},
   "outputs": [],
   "source": [
    "y_pred = example_lr.predict(X_test)"
   ]
  },
  {
   "cell_type": "code",
   "execution_count": 31,
   "metadata": {},
   "outputs": [
    {
     "data": {
      "text/plain": [
       "0.7834239639977498"
      ]
     },
     "execution_count": 31,
     "metadata": {},
     "output_type": "execute_result"
    }
   ],
   "source": [
    "# How do we assess the quality of these predictions\n",
    "\n",
    "# First we compute the accuracy which is defined as the proportion of samples that were correctly classified\n",
    "\n",
    "# there are two ways to calculate accuracy\n",
    "\n",
    "# first using the the score method\n",
    "\n",
    "example_lr.score(X_test,y_test)"
   ]
  },
  {
   "cell_type": "code",
   "execution_count": 32,
   "metadata": {},
   "outputs": [
    {
     "data": {
      "text/plain": [
       "0.7834239639977498"
      ]
     },
     "execution_count": 32,
     "metadata": {},
     "output_type": "execute_result"
    }
   ],
   "source": [
    "# Second importing the metrics module from sklearn\n",
    "\n",
    "from sklearn import metrics\n",
    "metrics.accuracy_score(y_test,y_pred)"
   ]
  },
  {
   "cell_type": "code",
   "execution_count": 33,
   "metadata": {},
   "outputs": [],
   "source": [
    "# This percentage may not be the best due to the fact since a majority of the neg cases are zero and at 78% the model could guess \n",
    "# all zeros and still get the same result. There are better metrics to use when using binary classification"
   ]
  },
  {
   "cell_type": "markdown",
   "metadata": {},
   "source": [
    "# True Positive Rate, False Positive Rate, and Confusion Matrix"
   ]
  },
  {
   "cell_type": "code",
   "execution_count": 34,
   "metadata": {},
   "outputs": [
    {
     "name": "stdout",
     "output_type": "stream",
     "text": [
      "1155\n"
     ]
    }
   ],
   "source": [
    "# Calculating the True and False Positive and Negative Rates and Confusion Matrix in Python\n",
    "# First the manual wya to calculate the true and false positive and negative rates\n",
    "\n",
    "P = sum(y_test)\n",
    "print(P)"
   ]
  },
  {
   "cell_type": "code",
   "execution_count": 35,
   "metadata": {},
   "outputs": [
    {
     "name": "stdout",
     "output_type": "stream",
     "text": [
      "0\n"
     ]
    }
   ],
   "source": [
    "# Now for true positives \n",
    "TP = sum((y_test==1) & (y_pred==1))\n",
    "print(TP)"
   ]
  },
  {
   "cell_type": "code",
   "execution_count": 36,
   "metadata": {},
   "outputs": [
    {
     "name": "stdout",
     "output_type": "stream",
     "text": [
      "0.0\n"
     ]
    }
   ],
   "source": [
    "# The True positive rate is the proportion of true positives to positives\n",
    "\n",
    "TPR = TP/P\n",
    "print(TPR)"
   ]
  },
  {
   "cell_type": "code",
   "execution_count": 37,
   "metadata": {},
   "outputs": [
    {
     "name": "stdout",
     "output_type": "stream",
     "text": [
      "1155\n"
     ]
    }
   ],
   "source": [
    "# id the false negatives\n",
    "FN = sum((y_test==1) & (y_pred==0))\n",
    "print(FN)"
   ]
  },
  {
   "cell_type": "code",
   "execution_count": 38,
   "metadata": {},
   "outputs": [
    {
     "name": "stdout",
     "output_type": "stream",
     "text": [
      "1.0\n"
     ]
    }
   ],
   "source": [
    "# Calculating the false negative rate\n",
    "FNR = FN/P\n",
    "print(FNR)"
   ]
  },
  {
   "cell_type": "code",
   "execution_count": 39,
   "metadata": {},
   "outputs": [],
   "source": [
    "# This tells us that for the positive samples the model acted as a majority class null model(which is bad need to avoid) Every \n",
    "# positive sample was predicted to be negative, so none of them were correctly predicted"
   ]
  },
  {
   "cell_type": "code",
   "execution_count": 40,
   "metadata": {},
   "outputs": [
    {
     "name": "stdout",
     "output_type": "stream",
     "text": [
      "4178\n"
     ]
    }
   ],
   "source": [
    "# Calculating the TNR and FPR\n",
    "\n",
    "N = sum(y_test==0)\n",
    "print(N)"
   ]
  },
  {
   "cell_type": "code",
   "execution_count": 41,
   "metadata": {},
   "outputs": [
    {
     "name": "stdout",
     "output_type": "stream",
     "text": [
      "4178\n"
     ]
    }
   ],
   "source": [
    "TN = sum((y_test==0)&(y_pred==0))\n",
    "print(TN)"
   ]
  },
  {
   "cell_type": "code",
   "execution_count": 42,
   "metadata": {},
   "outputs": [
    {
     "name": "stdout",
     "output_type": "stream",
     "text": [
      "0\n"
     ]
    }
   ],
   "source": [
    "FP = sum((y_test==0) & (y_pred==1))\n",
    "print(FP)"
   ]
  },
  {
   "cell_type": "code",
   "execution_count": 43,
   "metadata": {},
   "outputs": [
    {
     "name": "stdout",
     "output_type": "stream",
     "text": [
      "The true negative rate is 1.0 and the false positive rate is 0.0\n"
     ]
    }
   ],
   "source": [
    "TNR = TN/N\n",
    "FPR = TP/N\n",
    "\n",
    "print(\"The true negative rate is {} and the false positive rate is {}\".format(TNR,FPR))"
   ]
  },
  {
   "cell_type": "code",
   "execution_count": 44,
   "metadata": {},
   "outputs": [
    {
     "data": {
      "text/plain": [
       "array([[4178,    0],\n",
       "       [1155,    0]], dtype=int64)"
      ]
     },
     "execution_count": 44,
     "metadata": {},
     "output_type": "execute_result"
    }
   ],
   "source": [
    "# Creating a confusion matrix using schlearn \n",
    "metrics.confusion_matrix(y_test,y_pred)"
   ]
  },
  {
   "cell_type": "markdown",
   "metadata": {},
   "source": [
    "# Discovering Predicted Probabilities: How does logistic regression make Predictions"
   ]
  },
  {
   "cell_type": "markdown",
   "metadata": {},
   "source": [
    "##  Obtaining Predicted Probablilities from a trained Logistic Regression Model"
   ]
  },
  {
   "cell_type": "code",
   "execution_count": 45,
   "metadata": {},
   "outputs": [
    {
     "data": {
      "text/plain": [
       "array([[0.77456295, 0.22543705],\n",
       "       [0.77456295, 0.22543705],\n",
       "       [0.79016179, 0.20983821],\n",
       "       ...,\n",
       "       [0.79016179, 0.20983821],\n",
       "       [0.79016179, 0.20983821],\n",
       "       [0.79016179, 0.20983821]])"
      ]
     },
     "execution_count": 45,
     "metadata": {},
     "output_type": "execute_result"
    }
   ],
   "source": [
    "# Directly accessing the predicted probabilities of these samples using .predict_probab method\n",
    "\n",
    "y_pred_proba = example_lr.predict_proba(X_test)\n",
    "y_pred_proba"
   ]
  },
  {
   "cell_type": "code",
   "execution_count": 46,
   "metadata": {},
   "outputs": [
    {
     "data": {
      "text/plain": [
       "array([1., 1., 1., ..., 1., 1., 1.])"
      ]
     },
     "execution_count": 46,
     "metadata": {},
     "output_type": "execute_result"
    }
   ],
   "source": [
    "# These two columns report the probability of belonging to either the negative or positive classes. The left columns is the \n",
    "# negative class or 0 and the right columns is the positive class or 1\n",
    "\n",
    "#using np.sum to confirm that the sum of each samples' probablity adds to one\n",
    "\n",
    "prob_sum = np.sum(y_pred_proba,1)\n",
    "prob_sum"
   ]
  },
  {
   "cell_type": "code",
   "execution_count": 47,
   "metadata": {},
   "outputs": [
    {
     "data": {
      "text/plain": [
       "(5333,)"
      ]
     },
     "execution_count": 47,
     "metadata": {},
     "output_type": "execute_result"
    }
   ],
   "source": [
    "#Checking the shape of the array\n",
    "\n",
    "prob_sum.shape"
   ]
  },
  {
   "cell_type": "code",
   "execution_count": 48,
   "metadata": {},
   "outputs": [
    {
     "data": {
      "text/plain": [
       "array([1.])"
      ]
     },
     "execution_count": 48,
     "metadata": {},
     "output_type": "execute_result"
    }
   ],
   "source": [
    "# Checking to make sure all the elements are indeed one using the np.unique function\n",
    "\n",
    "np.unique(prob_sum)"
   ]
  },
  {
   "cell_type": "code",
   "execution_count": 49,
   "metadata": {},
   "outputs": [
    {
     "data": {
      "text/plain": [
       "array([0.22543705, 0.22543705, 0.20983821, ..., 0.20983821, 0.20983821,\n",
       "       0.20983821])"
      ]
     },
     "execution_count": 49,
     "metadata": {},
     "output_type": "execute_result"
    }
   ],
   "source": [
    "#examining the second columns or the postive membership \n",
    "pos_proba = y_pred_proba[:,1]\n",
    "pos_proba"
   ]
  },
  {
   "cell_type": "code",
   "execution_count": 50,
   "metadata": {},
   "outputs": [
    {
     "data": {
      "text/plain": [
       "Text(0, 0.5, 'Number of samples')"
      ]
     },
     "execution_count": 50,
     "metadata": {},
     "output_type": "execute_result"
    },
    {
     "data": {
      "image/png": "[encoded data removed]",
      "text/plain": [
       "<Figure size 432x288 with 1 Axes>"
      ]
     },
     "metadata": {
      "needs_background": "light"
     },
     "output_type": "display_data"
    }
   ],
   "source": [
    "# plotting these probabilities to see what they look like in a histogram. \n",
    "\n",
    "plt.hist(pos_proba)\n",
    "plt.xlabel(\"Predicted probablity of positive class for testing data\")\n",
    "plt.ylabel(\"Number of samples\")"
   ]
  },
  {
   "cell_type": "code",
   "execution_count": 51,
   "metadata": {},
   "outputs": [],
   "source": [
    "# From the histgram we can see that all of the predicted probabilities are below 0.5 this is the reason every sample was \n",
    "# predicted to be negative using the default threshold of 0.5."
   ]
  },
  {
   "cell_type": "code",
   "execution_count": 52,
   "metadata": {},
   "outputs": [
    {
     "data": {
      "text/plain": [
       "Text(0, 0.5, 'Number of samples')"
      ]
     },
     "execution_count": 52,
     "metadata": {},
     "output_type": "execute_result"
    },
    {
     "data": {
      "image/png": "[encoded data removed]",
      "text/plain": [
       "<Figure size 432x288 with 1 Axes>"
      ]
     },
     "metadata": {
      "needs_background": "light"
     },
     "output_type": "display_data"
    }
   ],
   "source": [
    "# Using a stacked histogram to see if moving the threshold to 0.25 would improve the performance of our classifier by looking at\n",
    "# the far right examples\n",
    "\n",
    "pos_sample_pos_proba = pos_proba[y_test==1]\n",
    "neg_sample_pos_proba = pos_proba[y_test==0]\n",
    "\n",
    "plt.hist([pos_sample_pos_proba,neg_sample_pos_proba],histtype=\"barstacked\")\n",
    "plt.legend([\"Positive sample\",\"Negative sample\"])\n",
    "plt.xlabel(\"Predicted probability of positive class\")\n",
    "plt.ylabel(\"Number of samples\")"
   ]
  },
  {
   "cell_type": "code",
   "execution_count": 53,
   "metadata": {},
   "outputs": [],
   "source": [
    "# The above plot shows the true label of the samples for each predicted probablity. Since nearly all samples in the small far \n",
    "# right bin are negative if we were to decrease the threshold to 0.25 we would erroneously classify these as positive samples \n",
    "# and increase the false positive rate. At the same time we wouldn't have managed to classify many if any positive samples\n",
    "# correctly, so our true positive rate wouldn't increase very much at all. Making the change to the threshold to 0.25 would \n",
    "# appear to decrease the accuracy of the model. "
   ]
  },
  {
   "cell_type": "markdown",
   "metadata": {},
   "source": [
    "# The Receiver Operating Characteristic (ROC) Curve"
   ]
  },
  {
   "cell_type": "code",
   "execution_count": 55,
   "metadata": {},
   "outputs": [
    {
     "data": {
      "text/plain": [
       "Text(0.5, 1.0, 'ROC Curve')"
      ]
     },
     "execution_count": 55,
     "metadata": {},
     "output_type": "execute_result"
    },
    {
     "data": {
      "image/png": "[encoded data removed]",
      "text/plain": [
       "<Figure size 432x288 with 1 Axes>"
      ]
     },
     "metadata": {
      "needs_background": "light"
     },
     "output_type": "display_data"
    }
   ],
   "source": [
    "# ROC Curve is a plot that pairs the true positive rates and false positive rates that result from lowering the threshold down\n",
    "# from 1 all the way to 0. \n",
    "\n",
    "# Using scikit-learn's built in functionality\n",
    "\n",
    "fpr,tpr,thresholds = metrics.roc_curve(y_test,pos_proba)\n",
    "\n",
    "# Plotting the fpr against the tpr \n",
    "\n",
    "plt.plot(fpr,tpr,\"*-\")\n",
    "plt.plot([0,1],[0,1],\"r--\")\n",
    "plt.legend([\"Logistic regression\",\"Random chance\"])\n",
    "plt.xlabel(\"FPR\")\n",
    "plt.ylabel(\"TPR\")\n",
    "plt.title(\"ROC Curve\")"
   ]
  },
  {
   "cell_type": "code",
   "execution_count": 56,
   "metadata": {},
   "outputs": [
    {
     "name": "stdout",
     "output_type": "stream",
     "text": [
      "[1.25903847 0.25903847 0.24184056 0.22543705 0.20983821]\n"
     ]
    }
   ],
   "source": [
    "# Viewing the thresholds used to calculate the ROC curve \n",
    "print(thresholds)"
   ]
  },
  {
   "cell_type": "code",
   "execution_count": 57,
   "metadata": {},
   "outputs": [
    {
     "data": {
      "text/plain": [
       "0.5434650477972642"
      ]
     },
     "execution_count": 57,
     "metadata": {},
     "output_type": "execute_result"
    }
   ],
   "source": [
    "# Using sckit-learn to calculate the ROC AUC or C-statistic \n",
    "metrics.roc_auc_score(y_test,pos_proba)"
   ]
  },
  {
   "cell_type": "code",
   "execution_count": 58,
   "metadata": {},
   "outputs": [],
   "source": [
    "# Because the ROC AUC for logistic regression is really close to 0.5 this means that EDUCATION by itself is not a very effective\n",
    "# classifier"
   ]
  }
 ],
 "metadata": {
  "kernelspec": {
   "display_name": "Python 3",
   "language": "python",
   "name": "python3"
  },
  "language_info": {
   "codemirror_mode": {
    "name": "ipython",
    "version": 3
   },
   "file_extension": ".py",
   "mimetype": "text/x-python",
   "name": "python",
   "nbconvert_exporter": "python",
   "pygments_lexer": "ipython3",
   "version": "3.8.3"
  }
 },
 "nbformat": 4,
 "nbformat_minor": 4
}
